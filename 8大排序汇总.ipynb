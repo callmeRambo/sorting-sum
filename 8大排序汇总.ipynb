{
 "cells": [
  {
   "cell_type": "code",
   "execution_count": 2,
   "metadata": {
    "collapsed": true
   },
   "outputs": [],
   "source": [
    "#八大排序算法"
   ]
  },
  {
   "cell_type": "code",
   "execution_count": 3,
   "metadata": {
    "collapsed": true
   },
   "outputs": [],
   "source": [
    "#1.插入排序 函数体传入参数数字list，返回排完序的list"
   ]
  },
  {
   "cell_type": "code",
   "execution_count": 79,
   "metadata": {
    "collapsed": true
   },
   "outputs": [],
   "source": [
    "def insertSort(list):\n",
    "    sorted_list = [float(\"-inf\"),float(\"+inf\")]\n",
    "    pivot_pos = 0\n",
    "    while len(list)>0:\n",
    "        num = list.pop(0)\n",
    "        #print(sorted_list,num,sorted_list[pivot_pos])\n",
    "        i = pivot_pos\n",
    "        if (num<sorted_list[i]):\n",
    "            while i in range(0,len(sorted_list)):\n",
    "                if num>sorted_list[i]:\n",
    "                    sorted_list = sorted_list[:i+1]+[num]+sorted_list[i+1:]\n",
    "                    pivot_pos = i+1\n",
    "                    break\n",
    "                i=i-1\n",
    "        else:\n",
    "            while i in range(0,len(sorted_list)):\n",
    "                if num<sorted_list[i]:\n",
    "                    sorted_list = sorted_list[:i]+[num]+sorted_list[i:]\n",
    "                    pivot_pos = i\n",
    "                    break\n",
    "                i=i+1\n",
    "    return sorted_list[1:len(sorted_list)-1]\n"
   ]
  },
  {
   "cell_type": "code",
   "execution_count": 82,
   "metadata": {},
   "outputs": [
    {
     "data": {
      "text/plain": [
       "[1, 2, 3, 4, 5, 6, 7, 9]"
      ]
     },
     "execution_count": 82,
     "metadata": {},
     "output_type": "execute_result"
    }
   ],
   "source": [
    "list = [3,1,5,7,2,4,9,6]\n",
    "insertSort(list)\n"
   ]
  },
  {
   "cell_type": "code",
   "execution_count": null,
   "metadata": {
    "collapsed": true
   },
   "outputs": [],
   "source": [
    "#2希尔排序"
   ]
  },
  {
   "cell_type": "code",
   "execution_count": 99,
   "metadata": {
    "collapsed": true
   },
   "outputs": [],
   "source": [
    "def shellSort(list):\n",
    "    i = len(list)\n",
    "    while i>0:\n",
    "        print(list)\n",
    "        j = 0\n",
    "        while j+i < len(list):\n",
    "            if list[j]>list[j+i]:\n",
    "                list[j],list[j+i] = list[j+i],list[j]\n",
    "            j = j+1\n",
    "        i//=2\n",
    "    return list"
   ]
  },
  {
   "cell_type": "code",
   "execution_count": 100,
   "metadata": {},
   "outputs": [
    {
     "name": "stdout",
     "output_type": "stream",
     "text": [
      "[3, 1, 5, 7, 2, 4, 9, 6]\n",
      "[3, 1, 5, 7, 2, 4, 9, 6]\n",
      "[2, 1, 5, 6, 3, 4, 9, 7]\n",
      "[2, 1, 3, 4, 5, 6, 9, 7]\n"
     ]
    },
    {
     "data": {
      "text/plain": [
       "[1, 2, 3, 4, 5, 6, 7, 9]"
      ]
     },
     "execution_count": 100,
     "metadata": {},
     "output_type": "execute_result"
    }
   ],
   "source": [
    "list = [3,1,5,7,2,4,9,6]\n",
    "shellSort(list)"
   ]
  },
  {
   "cell_type": "code",
   "execution_count": 101,
   "metadata": {
    "collapsed": true
   },
   "outputs": [],
   "source": [
    "#3. 选择排序"
   ]
  },
  {
   "cell_type": "code",
   "execution_count": 108,
   "metadata": {},
   "outputs": [
    {
     "data": {
      "text/plain": [
       "[1, 2, 3, 4, 5, 6, 7, 9]"
      ]
     },
     "execution_count": 108,
     "metadata": {},
     "output_type": "execute_result"
    }
   ],
   "source": [
    "def selectSort(list):\n",
    "    list2 = []\n",
    "    while len(list)>0:\n",
    "        num = min(list)\n",
    "        list2.append(num)\n",
    "        i = list.index(min(list))\n",
    "        list.pop(i)\n",
    "    return list2\n",
    "list = [3,1,5,7,2,4,9,6]\n",
    "selectSort(list)"
   ]
  },
  {
   "cell_type": "code",
   "execution_count": 109,
   "metadata": {
    "collapsed": true
   },
   "outputs": [],
   "source": [
    "#4. 选择排序—堆排序（Heap Sort）"
   ]
  },
  {
   "cell_type": "code",
   "execution_count": 195,
   "metadata": {
    "collapsed": true
   },
   "outputs": [],
   "source": [
    "def heapSort(list):\n",
    "    for i in range(len(list)//2,0,-1):\n",
    "        #print()\n",
    "        if not checkHeap(i):\n",
    "            adjustHeap(i)\n",
    "    return list\n",
    "def checkHeap(i):\n",
    "    if list[i-1]>list[2*i-1] or list[i-1]>list[2*i+1-1]:\n",
    "        return False\n",
    "    return True\n",
    "def adjustHeap(i):\n",
    "    if (2*i>len(list)):\n",
    "        return\n",
    "    if (2*i+1>len(list)):\n",
    "        if (list[i-1]>list[2*i-1]):\n",
    "            list[i-1],list[2*i-1] = list[2*i-1],list[i-1] \n",
    "            adjustHeap(2*i)\n",
    "            return\n",
    "    if list[i-1]>list[2*i-1] or list[i-1]>list[2*i+1-1]:\n",
    "        if list[2*i-1]>list[2*i]:\n",
    "            list[i-1],list[2*i] = list[2*i],list[i-1] \n",
    "            adjustHeap(2*i+1)\n",
    "        else:\n",
    "            list[i-1],list[2*i-1] = list[2*i-1],list[i-1] \n",
    "            adjustHeap(2*i)"
   ]
  },
  {
   "cell_type": "code",
   "execution_count": 198,
   "metadata": {},
   "outputs": [
    {
     "data": {
      "text/plain": [
       "[13, 38, 27, 49, 76, 65, 49, 97]"
      ]
     },
     "execution_count": 198,
     "metadata": {},
     "output_type": "execute_result"
    }
   ],
   "source": [
    "list = [49,38,65,97,76,13,27,49]\n",
    "heapSort(list)"
   ]
  },
  {
   "cell_type": "code",
   "execution_count": 205,
   "metadata": {
    "collapsed": true
   },
   "outputs": [],
   "source": [
    "#5. 交换排序—冒泡排序（Bubble Sort）\n",
    "def bubbleSort(list):\n",
    "    change = 1\n",
    "    while change ==1:\n",
    "        change = 0\n",
    "        for i in range(len(list)-1):\n",
    "            if list[i]>list[i+1]:\n",
    "                list[i],list[i+1] = list[i+1],list[i]\n",
    "                change=1\n",
    "    return list"
   ]
  },
  {
   "cell_type": "code",
   "execution_count": 203,
   "metadata": {},
   "outputs": [
    {
     "data": {
      "text/plain": [
       "[13, 27, 38, 49, 49, 65, 76, 97]"
      ]
     },
     "execution_count": 203,
     "metadata": {},
     "output_type": "execute_result"
    }
   ],
   "source": [
    "list = [49,38,65,97,76,13,27,49]\n",
    "bubbleSort(list)"
   ]
  },
  {
   "cell_type": "code",
   "execution_count": 45,
   "metadata": {
    "collapsed": true
   },
   "outputs": [],
   "source": [
    "#6. 交换排序—快速排序（Quick Sort）\n",
    "def quickSort(a,b,list):\n",
    "    if b>a:\n",
    "        pivot_pos = divide(a,b,list)\n",
    "        quickSort(a,pivot_pos-1,list)\n",
    "        quickSort(pivot_pos+1,b,list)\n",
    "    return list\n",
    "\n",
    "def divide(a,b,list):\n",
    "    pivot = list[a]\n",
    "    left = []\n",
    "    right = []\n",
    "    for i in list[a+1:b+1]:\n",
    "        if i<pivot:\n",
    "            left.append(i)\n",
    "        else:\n",
    "            right.append(i)\n",
    "    list[a:b+1] = left + [pivot] + right\n",
    "    return a+len(left)"
   ]
  },
  {
   "cell_type": "code",
   "execution_count": 46,
   "metadata": {},
   "outputs": [
    {
     "data": {
      "text/plain": [
       "[13, 27, 38, 49, 49, 65, 76, 97]"
      ]
     },
     "execution_count": 46,
     "metadata": {},
     "output_type": "execute_result"
    }
   ],
   "source": [
    "list = [49,38,65,97,76,13,27,49]\n",
    "quickSort(0,len(list),list)"
   ]
  },
  {
   "cell_type": "code",
   "execution_count": 47,
   "metadata": {
    "collapsed": true
   },
   "outputs": [],
   "source": [
    "#7. 归并排序（Merge Sort）"
   ]
  },
  {
   "cell_type": "code",
   "execution_count": 39,
   "metadata": {
    "collapsed": true
   },
   "outputs": [],
   "source": [
    "def mergeSort(list):\n",
    "    \n",
    "    if len(list)<=1:\n",
    "        return list\n",
    "    #print(list)\n",
    "    list = insrt(mergeSort(list[:len(list)//2]),mergeSort(list[len(list)//2:]))\n",
    "    return list\n",
    "def insrt(l1,l2):\n",
    "    #print(l1,1)\n",
    "    #print(l2,2)\n",
    "    if l1==[] or l2==[]:\n",
    "        return l1+l2\n",
    "    i1,i2 = 0,0\n",
    "    l3 = []\n",
    "    while i1 < len(l1) and i2<len(l2):\n",
    "        if l1[i1]<l2[i2]:\n",
    "            l3.append(l1[i1])\n",
    "            i1+=1\n",
    "        else:\n",
    "            l3.append(l2[i2])\n",
    "            i2+=1\n",
    "    if i1!=len(l1)-1 or i2!=len(l2)-1:\n",
    "        l3.extend(l1[i1:])\n",
    "        l3.extend(l2[i2:])\n",
    "    #print(l3,3)\n",
    "    return l3"
   ]
  },
  {
   "cell_type": "code",
   "execution_count": 41,
   "metadata": {},
   "outputs": [
    {
     "data": {
      "text/plain": [
       "[1, 2, 3, 5, 6]"
      ]
     },
     "execution_count": 41,
     "metadata": {},
     "output_type": "execute_result"
    }
   ],
   "source": [
    "#insrt([1,2,5],[3,4,6])\n",
    "mergeSort([1,2,5,3,6])"
   ]
  },
  {
   "cell_type": "code",
   "execution_count": null,
   "metadata": {
    "collapsed": true
   },
   "outputs": [],
   "source": [
    "#8.桶排序"
   ]
  },
  {
   "cell_type": "code",
   "execution_count": 71,
   "metadata": {},
   "outputs": [
    {
     "data": {
      "text/plain": [
       "[1, 2, 3, 4, 4]"
      ]
     },
     "execution_count": 71,
     "metadata": {},
     "output_type": "execute_result"
    }
   ],
   "source": [
    "def binSort(list):\n",
    "    dic = {}\n",
    "    for i in list:\n",
    "        if not dic.get(i):\n",
    "            dic[i]=1\n",
    "        else:\n",
    "            dic[i]+=1\n",
    "    #print(i for i in dic.values())\n",
    "    #return [i for i in dic.keys()]\n",
    "    l = []\n",
    "    for i in dic.keys():\n",
    "        l.extend([i]*dic.get(i))\n",
    "    return l\n",
    "binSort([1,2,4,3,4])"
   ]
  }
 ],
 "metadata": {
  "kernelspec": {
   "display_name": "Python 3",
   "language": "python",
   "name": "python3"
  },
  "language_info": {
   "codemirror_mode": {
    "name": "ipython",
    "version": 3
   },
   "file_extension": ".py",
   "mimetype": "text/x-python",
   "name": "python",
   "nbconvert_exporter": "python",
   "pygments_lexer": "ipython3",
   "version": "3.5.2"
  }
 },
 "nbformat": 4,
 "nbformat_minor": 2
}
